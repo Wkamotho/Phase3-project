{
 "cells": [
  {
   "cell_type": "markdown",
   "metadata": {},
   "source": [
    "# Terry Stops"
   ]
  },
  {
   "cell_type": "markdown",
   "metadata": {},
   "source": [
    "### Project By: Wambui Kamotho\n",
    "### Date: 19/02/2025\n",
    "### Data Science: Fulltime Remote"
   ]
  },
  {
   "cell_type": "markdown",
   "metadata": {},
   "source": [
    "## Introduction"
   ]
  },
  {
   "cell_type": "markdown",
   "metadata": {},
   "source": [
    "### Terry vs Ohio\n",
    "#### Real-world problem: \n",
    "Terry stops are named after the 1968 Supreme Court decision Terry v. Ohio. They involve the temporary detention of a person based on a reasonable suspicion of criminal activity. The goal of this project is to create and train a predictive model, based on a dataset of Seattle Terry Stops data.\n",
    "#### Stakeholders: \n",
    "This model would be used mainly by law enforcement agencies, but also legal assistance organizations, law firms, and district attorneys\n"
   ]
  },
  {
   "cell_type": "markdown",
   "metadata": {},
   "source": [
    "## Data understanding"
   ]
  },
  {
   "cell_type": "markdown",
   "metadata": {},
   "source": [
    "#### Source\n",
    "- This data is made available by the City of Seattle. It was recorded by Police of stops they made.\n",
    "- Each record contains perceived demographics of the subject, as reported by the officer making the stop and officer demographics as reported to the Seattle Police Department, for employment purposes.\n"
   ]
  },
  {
   "cell_type": "markdown",
   "metadata": {},
   "source": [
    "## Data Preparation"
   ]
  },
  {
   "cell_type": "code",
   "execution_count": 1,
   "metadata": {},
   "outputs": [],
   "source": [
    "#Import necessary libraries\n",
    "import pandas as pd\n",
    "import numpy as np\n",
    "import matplotlib.pyplot as plt\n",
    "import seaborn as sns"
   ]
  },
  {
   "cell_type": "code",
   "execution_count": 2,
   "metadata": {},
   "outputs": [
    {
     "name": "stdout",
     "output_type": "stream",
     "text": [
      "<class 'pandas.core.frame.DataFrame'>\n",
      "RangeIndex: 62737 entries, 0 to 62736\n",
      "Data columns (total 23 columns):\n",
      " #   Column                    Non-Null Count  Dtype \n",
      "---  ------                    --------------  ----- \n",
      " 0   Subject Age Group         62737 non-null  object\n",
      " 1   Subject ID                62737 non-null  int64 \n",
      " 2   GO / SC Num               62737 non-null  int64 \n",
      " 3   Terry Stop ID             62737 non-null  int64 \n",
      " 4   Stop Resolution           62737 non-null  object\n",
      " 5   Weapon Type               62737 non-null  object\n",
      " 6   Officer ID                62737 non-null  object\n",
      " 7   Officer YOB               62737 non-null  int64 \n",
      " 8   Officer Gender            62737 non-null  object\n",
      " 9   Officer Race              62737 non-null  object\n",
      " 10  Subject Perceived Race    62737 non-null  object\n",
      " 11  Subject Perceived Gender  62737 non-null  object\n",
      " 12  Reported Date             62737 non-null  object\n",
      " 13  Reported Time             62737 non-null  object\n",
      " 14  Initial Call Type         62737 non-null  object\n",
      " 15  Final Call Type           62737 non-null  object\n",
      " 16  Call Type                 62737 non-null  object\n",
      " 17  Officer Squad             62178 non-null  object\n",
      " 18  Arrest Flag               62737 non-null  object\n",
      " 19  Frisk Flag                62737 non-null  object\n",
      " 20  Precinct                  62737 non-null  object\n",
      " 21  Sector                    62737 non-null  object\n",
      " 22  Beat                      62737 non-null  object\n",
      "dtypes: int64(4), object(19)\n",
      "memory usage: 11.0+ MB\n",
      "None\n"
     ]
    },
    {
     "data": {
      "text/html": [
       "<div>\n",
       "<style scoped>\n",
       "    .dataframe tbody tr th:only-of-type {\n",
       "        vertical-align: middle;\n",
       "    }\n",
       "\n",
       "    .dataframe tbody tr th {\n",
       "        vertical-align: top;\n",
       "    }\n",
       "\n",
       "    .dataframe thead th {\n",
       "        text-align: right;\n",
       "    }\n",
       "</style>\n",
       "<table border=\"1\" class=\"dataframe\">\n",
       "  <thead>\n",
       "    <tr style=\"text-align: right;\">\n",
       "      <th></th>\n",
       "      <th>Subject Age Group</th>\n",
       "      <th>Subject ID</th>\n",
       "      <th>GO / SC Num</th>\n",
       "      <th>Terry Stop ID</th>\n",
       "      <th>Stop Resolution</th>\n",
       "      <th>Weapon Type</th>\n",
       "      <th>Officer ID</th>\n",
       "      <th>Officer YOB</th>\n",
       "      <th>Officer Gender</th>\n",
       "      <th>Officer Race</th>\n",
       "      <th>...</th>\n",
       "      <th>Reported Time</th>\n",
       "      <th>Initial Call Type</th>\n",
       "      <th>Final Call Type</th>\n",
       "      <th>Call Type</th>\n",
       "      <th>Officer Squad</th>\n",
       "      <th>Arrest Flag</th>\n",
       "      <th>Frisk Flag</th>\n",
       "      <th>Precinct</th>\n",
       "      <th>Sector</th>\n",
       "      <th>Beat</th>\n",
       "    </tr>\n",
       "  </thead>\n",
       "  <tbody>\n",
       "    <tr>\n",
       "      <th>0</th>\n",
       "      <td>18 - 25</td>\n",
       "      <td>-1</td>\n",
       "      <td>20170000378736</td>\n",
       "      <td>317787</td>\n",
       "      <td>Offense Report</td>\n",
       "      <td>None</td>\n",
       "      <td>6953</td>\n",
       "      <td>1968</td>\n",
       "      <td>M</td>\n",
       "      <td>White</td>\n",
       "      <td>...</td>\n",
       "      <td>21:02:00.0000000</td>\n",
       "      <td>CHILD - CRITICAL ABAND, ABUSE, MOLEST, NEGLECT</td>\n",
       "      <td>CHILD - ABANDONED, ABUSED AND NEGLECTED</td>\n",
       "      <td>911</td>\n",
       "      <td>NORTH PCT 2ND W - NORA (JOHN) - PLATOON 1</td>\n",
       "      <td>N</td>\n",
       "      <td>N</td>\n",
       "      <td>North</td>\n",
       "      <td>N</td>\n",
       "      <td>N3</td>\n",
       "    </tr>\n",
       "    <tr>\n",
       "      <th>1</th>\n",
       "      <td>46 - 55</td>\n",
       "      <td>-1</td>\n",
       "      <td>20160000000783</td>\n",
       "      <td>130754</td>\n",
       "      <td>Field Contact</td>\n",
       "      <td>None</td>\n",
       "      <td>6799</td>\n",
       "      <td>1976</td>\n",
       "      <td>M</td>\n",
       "      <td>Hispanic</td>\n",
       "      <td>...</td>\n",
       "      <td>11:56:00.0000000</td>\n",
       "      <td>-</td>\n",
       "      <td>-</td>\n",
       "      <td>-</td>\n",
       "      <td>WEST PCT 2ND W - SPECIAL BEATS</td>\n",
       "      <td>N</td>\n",
       "      <td>N</td>\n",
       "      <td>East</td>\n",
       "      <td>C</td>\n",
       "      <td>C3</td>\n",
       "    </tr>\n",
       "    <tr>\n",
       "      <th>2</th>\n",
       "      <td>46 - 55</td>\n",
       "      <td>7725465933</td>\n",
       "      <td>20220000032252</td>\n",
       "      <td>31547787060</td>\n",
       "      <td>Arrest</td>\n",
       "      <td>-</td>\n",
       "      <td>7596</td>\n",
       "      <td>1971</td>\n",
       "      <td>M</td>\n",
       "      <td>White</td>\n",
       "      <td>...</td>\n",
       "      <td>12:41:32.0000000</td>\n",
       "      <td>SHOPLIFT - THEFT</td>\n",
       "      <td>SHOPLIFT - THEFT</td>\n",
       "      <td>ONVIEW</td>\n",
       "      <td>WEST PCT 2ND W - SPECIAL BEATS</td>\n",
       "      <td>Y</td>\n",
       "      <td>N</td>\n",
       "      <td>West</td>\n",
       "      <td>M</td>\n",
       "      <td>M2</td>\n",
       "    </tr>\n",
       "    <tr>\n",
       "      <th>3</th>\n",
       "      <td>36 - 45</td>\n",
       "      <td>-1</td>\n",
       "      <td>20160000001344</td>\n",
       "      <td>140768</td>\n",
       "      <td>Field Contact</td>\n",
       "      <td>None</td>\n",
       "      <td>5717</td>\n",
       "      <td>1968</td>\n",
       "      <td>M</td>\n",
       "      <td>White</td>\n",
       "      <td>...</td>\n",
       "      <td>17:43:00.0000000</td>\n",
       "      <td>-</td>\n",
       "      <td>-</td>\n",
       "      <td>-</td>\n",
       "      <td>NORTH PCT 2ND W - BOY (JOHN) - PLATOON 1</td>\n",
       "      <td>N</td>\n",
       "      <td>N</td>\n",
       "      <td>-</td>\n",
       "      <td>-</td>\n",
       "      <td>-</td>\n",
       "    </tr>\n",
       "    <tr>\n",
       "      <th>4</th>\n",
       "      <td>18 - 25</td>\n",
       "      <td>7725775096</td>\n",
       "      <td>20200000247342</td>\n",
       "      <td>15050362499</td>\n",
       "      <td>Field Contact</td>\n",
       "      <td>-</td>\n",
       "      <td>6913</td>\n",
       "      <td>1979</td>\n",
       "      <td>M</td>\n",
       "      <td>White</td>\n",
       "      <td>...</td>\n",
       "      <td>22:15:01.0000000</td>\n",
       "      <td>ASLT - PERSON SHOT OR SHOT AT</td>\n",
       "      <td>BURGLARY - UNOCC STRUC ON RESN PROP</td>\n",
       "      <td>911</td>\n",
       "      <td>SOUTHWEST PCT OPS - NIGHT ACT</td>\n",
       "      <td>N</td>\n",
       "      <td>Y</td>\n",
       "      <td>Southwest</td>\n",
       "      <td>W</td>\n",
       "      <td>W2</td>\n",
       "    </tr>\n",
       "  </tbody>\n",
       "</table>\n",
       "<p>5 rows × 23 columns</p>\n",
       "</div>"
      ],
      "text/plain": [
       "  Subject Age Group  Subject ID     GO / SC Num  Terry Stop ID  \\\n",
       "0           18 - 25          -1  20170000378736         317787   \n",
       "1           46 - 55          -1  20160000000783         130754   \n",
       "2           46 - 55  7725465933  20220000032252    31547787060   \n",
       "3           36 - 45          -1  20160000001344         140768   \n",
       "4           18 - 25  7725775096  20200000247342    15050362499   \n",
       "\n",
       "  Stop Resolution Weapon Type Officer ID  Officer YOB Officer Gender  \\\n",
       "0  Offense Report        None       6953         1968              M   \n",
       "1   Field Contact        None       6799         1976              M   \n",
       "2          Arrest           -       7596         1971              M   \n",
       "3   Field Contact        None       5717         1968              M   \n",
       "4   Field Contact           -       6913         1979              M   \n",
       "\n",
       "  Officer Race  ...     Reported Time  \\\n",
       "0        White  ...  21:02:00.0000000   \n",
       "1     Hispanic  ...  11:56:00.0000000   \n",
       "2        White  ...  12:41:32.0000000   \n",
       "3        White  ...  17:43:00.0000000   \n",
       "4        White  ...  22:15:01.0000000   \n",
       "\n",
       "                                Initial Call Type  \\\n",
       "0  CHILD - CRITICAL ABAND, ABUSE, MOLEST, NEGLECT   \n",
       "1                                               -   \n",
       "2                                SHOPLIFT - THEFT   \n",
       "3                                               -   \n",
       "4                   ASLT - PERSON SHOT OR SHOT AT   \n",
       "\n",
       "                           Final Call Type Call Type  \\\n",
       "0  CHILD - ABANDONED, ABUSED AND NEGLECTED       911   \n",
       "1                                        -         -   \n",
       "2                         SHOPLIFT - THEFT    ONVIEW   \n",
       "3                                        -         -   \n",
       "4      BURGLARY - UNOCC STRUC ON RESN PROP       911   \n",
       "\n",
       "                               Officer Squad Arrest Flag Frisk Flag  \\\n",
       "0  NORTH PCT 2ND W - NORA (JOHN) - PLATOON 1           N          N   \n",
       "1             WEST PCT 2ND W - SPECIAL BEATS           N          N   \n",
       "2             WEST PCT 2ND W - SPECIAL BEATS           Y          N   \n",
       "3   NORTH PCT 2ND W - BOY (JOHN) - PLATOON 1           N          N   \n",
       "4              SOUTHWEST PCT OPS - NIGHT ACT           N          Y   \n",
       "\n",
       "    Precinct Sector Beat  \n",
       "0      North      N   N3  \n",
       "1       East      C   C3  \n",
       "2       West      M   M2  \n",
       "3          -      -    -  \n",
       "4  Southwest      W   W2  \n",
       "\n",
       "[5 rows x 23 columns]"
      ]
     },
     "execution_count": 2,
     "metadata": {},
     "output_type": "execute_result"
    }
   ],
   "source": [
    "df=pd.read_csv(\"Terry_stops.csv\")\n",
    "print(df.info())\n",
    "df.head()"
   ]
  },
  {
   "cell_type": "markdown",
   "metadata": {},
   "source": [
    "## Exploring the data"
   ]
  },
  {
   "cell_type": "markdown",
   "metadata": {},
   "source": [
    "For the model we are trying to create, the columns containing identification information are not going to be of use to us- so we are going to disregard those\n",
    "\n",
    "The Officer age infomation is given through the year of birth, I converted it into age, and then grouped it into groups in order to make the data categorical\n",
    "\n",
    "For most of the missing data, I put into categories denoting that it was not included."
   ]
  },
  {
   "cell_type": "code",
   "execution_count": 3,
   "metadata": {},
   "outputs": [
    {
     "data": {
      "text/plain": [
       "count    62737.000000\n",
       "mean      1984.239301\n",
       "std          9.462633\n",
       "min       1900.000000\n",
       "25%       1979.000000\n",
       "50%       1986.000000\n",
       "75%       1991.000000\n",
       "max       2002.000000\n",
       "Name: Officer YOB, dtype: float64"
      ]
     },
     "execution_count": 3,
     "metadata": {},
     "output_type": "execute_result"
    }
   ],
   "source": [
    "df[\"Officer YOB\"].describe()"
   ]
  },
  {
   "cell_type": "code",
   "execution_count": 4,
   "metadata": {},
   "outputs": [],
   "source": [
    "def categorize_age_group(year_of_birth):\n",
    "    current_year = 2017 #This is the year the data was created \n",
    "    age = current_year - year_of_birth\n",
    "\n",
    "    # Categorize the age into 10-year age groups\n",
    "    \n",
    "    if 10 <= age < 20:\n",
    "        return \"10-19\"\n",
    "    if 20 <= age < 30:\n",
    "        return \"20-29\"\n",
    "    elif 30 <= age < 40:\n",
    "        return \"30-39\"\n",
    "    elif 40 <= age < 50:\n",
    "        return \"40-49\"\n",
    "    else:\n",
    "        return \"50+\"\n",
    "    \n",
    "df[\"Officer YOB\"]=df[\"Officer YOB\"].map(categorize_age_group)"
   ]
  },
  {
   "cell_type": "code",
   "execution_count": 5,
   "metadata": {},
   "outputs": [
    {
     "data": {
      "text/plain": [
       "Subject Age Group             0\n",
       "Subject ID                    0\n",
       "GO / SC Num                   0\n",
       "Terry Stop ID                 0\n",
       "Stop Resolution               0\n",
       "Weapon Type                   0\n",
       "Officer ID                    0\n",
       "Officer YOB                   0\n",
       "Officer Gender                0\n",
       "Officer Race                  0\n",
       "Subject Perceived Race        0\n",
       "Subject Perceived Gender      0\n",
       "Reported Date                 0\n",
       "Reported Time                 0\n",
       "Initial Call Type             0\n",
       "Final Call Type               0\n",
       "Call Type                     0\n",
       "Officer Squad               559\n",
       "Arrest Flag                   0\n",
       "Frisk Flag                    0\n",
       "Precinct                      0\n",
       "Sector                        0\n",
       "Beat                          0\n",
       "dtype: int64"
      ]
     },
     "execution_count": 5,
     "metadata": {},
     "output_type": "execute_result"
    }
   ],
   "source": [
    "df.isna().sum()"
   ]
  },
  {
   "cell_type": "code",
   "execution_count": 6,
   "metadata": {
    "scrolled": true
   },
   "outputs": [
    {
     "data": {
      "text/plain": [
       "TRAINING - FIELD TRAINING SQUAD            6668\n",
       "WEST PCT 1ST W - DAVID - PLATOON 1         1706\n",
       "WEST PCT 3RD W - KING - PLATOON 1          1433\n",
       "WEST PCT 1ST W - KING - PLATOON 1          1314\n",
       "SOUTHWEST PCT 2ND W - FRANK - PLATOON 2    1287\n",
       "                                           ... \n",
       "ZOLD CRIME ANALYSIS UNIT - ANALYSTS           1\n",
       "SOUTHWEST PCT 1ST W - WILLIAM                 1\n",
       "HOMICIDE SQUAD A                              1\n",
       "TRAF - MOTORCYCLE UNIT - T2 SQUAD             1\n",
       "WEST PCT - ITRU SQUAD                         1\n",
       "Name: Officer Squad, Length: 276, dtype: int64"
      ]
     },
     "execution_count": 6,
     "metadata": {},
     "output_type": "execute_result"
    }
   ],
   "source": [
    "df[\"Officer Squad\"].value_counts()"
   ]
  },
  {
   "cell_type": "code",
   "execution_count": 7,
   "metadata": {},
   "outputs": [
    {
     "data": {
      "text/plain": [
       "Subject Age Group           0\n",
       "Subject ID                  0\n",
       "GO / SC Num                 0\n",
       "Terry Stop ID               0\n",
       "Stop Resolution             0\n",
       "Weapon Type                 0\n",
       "Officer ID                  0\n",
       "Officer YOB                 0\n",
       "Officer Gender              0\n",
       "Officer Race                0\n",
       "Subject Perceived Race      0\n",
       "Subject Perceived Gender    0\n",
       "Reported Date               0\n",
       "Reported Time               0\n",
       "Initial Call Type           0\n",
       "Final Call Type             0\n",
       "Call Type                   0\n",
       "Officer Squad               0\n",
       "Arrest Flag                 0\n",
       "Frisk Flag                  0\n",
       "Precinct                    0\n",
       "Sector                      0\n",
       "Beat                        0\n",
       "dtype: int64"
      ]
     },
     "execution_count": 7,
     "metadata": {},
     "output_type": "execute_result"
    }
   ],
   "source": [
    "df[\"Officer Squad\"].fillna(\"Missing\", inplace=True)\n",
    "df.isna().sum()"
   ]
  },
  {
   "cell_type": "markdown",
   "metadata": {},
   "source": [
    "### Analyze the target variable\n",
    "\n",
    "The variable we are trying to predict is whether an arrest will or will not occur. "
   ]
  },
  {
   "cell_type": "code",
   "execution_count": 8,
   "metadata": {},
   "outputs": [
    {
     "data": {
      "text/plain": [
       "N    55802\n",
       "Y     6935\n",
       "Name: Arrest Flag, dtype: int64"
      ]
     },
     "execution_count": 8,
     "metadata": {},
     "output_type": "execute_result"
    }
   ],
   "source": [
    "df[\"Arrest Flag\"].value_counts()"
   ]
  },
  {
   "cell_type": "code",
   "execution_count": 9,
   "metadata": {},
   "outputs": [
    {
     "data": {
      "text/plain": [
       "<AxesSubplot:xlabel='Arrest Flag', ylabel='count'>"
      ]
     },
     "execution_count": 9,
     "metadata": {},
     "output_type": "execute_result"
    },
    {
     "data": {
      "image/png": "[encoded data removed]",
      "text/plain": [
       "<Figure size 432x288 with 1 Axes>"
      ]
     },
     "metadata": {
      "needs_background": "light"
     },
     "output_type": "display_data"
    }
   ],
   "source": [
    "sns.countplot(data=df, x='Arrest Flag')"
   ]
  },
  {
   "cell_type": "markdown",
   "metadata": {},
   "source": [
    "#### Examine Features"
   ]
  },
  {
   "cell_type": "code",
   "execution_count": 10,
   "metadata": {},
   "outputs": [
    {
     "data": {
      "text/plain": [
       "Field Contact               30781\n",
       "Offense Report              15863\n",
       "Arrest                      15143\n",
       "Referred for Prosecution      728\n",
       "Citation / Infraction         222\n",
       "Name: Stop Resolution, dtype: int64"
      ]
     },
     "execution_count": 10,
     "metadata": {},
     "output_type": "execute_result"
    }
   ],
   "source": [
    "df[\"Stop Resolution\"].value_counts()"
   ]
  },
  {
   "cell_type": "code",
   "execution_count": 11,
   "metadata": {},
   "outputs": [
    {
     "data": {
      "text/plain": [
       "<AxesSubplot:xlabel='Stop Resolution', ylabel='count'>"
      ]
     },
     "execution_count": 11,
     "metadata": {},
     "output_type": "execute_result"
    },
    {
     "data": {
      "image/png": "[encoded data removed]",
      "text/plain": [
       "<Figure size 432x288 with 1 Axes>"
      ]
     },
     "metadata": {
      "needs_background": "light"
     },
     "output_type": "display_data"
    }
   ],
   "source": [
    "sns.countplot(data=df, x='Stop Resolution')"
   ]
  },
  {
   "cell_type": "code",
   "execution_count": 12,
   "metadata": {},
   "outputs": [
    {
     "data": {
      "text/html": [
       "<div>\n",
       "<style scoped>\n",
       "    .dataframe tbody tr th:only-of-type {\n",
       "        vertical-align: middle;\n",
       "    }\n",
       "\n",
       "    .dataframe tbody tr th {\n",
       "        vertical-align: top;\n",
       "    }\n",
       "\n",
       "    .dataframe thead th {\n",
       "        text-align: right;\n",
       "    }\n",
       "</style>\n",
       "<table border=\"1\" class=\"dataframe\">\n",
       "  <thead>\n",
       "    <tr style=\"text-align: right;\">\n",
       "      <th>Arrest Flag</th>\n",
       "      <th>N</th>\n",
       "      <th>Y</th>\n",
       "    </tr>\n",
       "    <tr>\n",
       "      <th>Stop Resolution</th>\n",
       "      <th></th>\n",
       "      <th></th>\n",
       "    </tr>\n",
       "  </thead>\n",
       "  <tbody>\n",
       "    <tr>\n",
       "      <th>Arrest</th>\n",
       "      <td>8210.0</td>\n",
       "      <td>6933.0</td>\n",
       "    </tr>\n",
       "    <tr>\n",
       "      <th>Citation / Infraction</th>\n",
       "      <td>222.0</td>\n",
       "      <td>NaN</td>\n",
       "    </tr>\n",
       "    <tr>\n",
       "      <th>Field Contact</th>\n",
       "      <td>30781.0</td>\n",
       "      <td>NaN</td>\n",
       "    </tr>\n",
       "    <tr>\n",
       "      <th>Offense Report</th>\n",
       "      <td>15863.0</td>\n",
       "      <td>NaN</td>\n",
       "    </tr>\n",
       "    <tr>\n",
       "      <th>Referred for Prosecution</th>\n",
       "      <td>726.0</td>\n",
       "      <td>2.0</td>\n",
       "    </tr>\n",
       "  </tbody>\n",
       "</table>\n",
       "</div>"
      ],
      "text/plain": [
       "Arrest Flag                     N       Y\n",
       "Stop Resolution                          \n",
       "Arrest                     8210.0  6933.0\n",
       "Citation / Infraction       222.0     NaN\n",
       "Field Contact             30781.0     NaN\n",
       "Offense Report            15863.0     NaN\n",
       "Referred for Prosecution    726.0     2.0"
      ]
     },
     "execution_count": 12,
     "metadata": {},
     "output_type": "execute_result"
    }
   ],
   "source": [
    "counts = (df[['Arrest Flag', 'Stop Resolution']]\n",
    "              .groupby(['Arrest Flag', 'Stop Resolution'])\n",
    "              .size()\n",
    "              .unstack('Arrest Flag')\n",
    "         )\n",
    "counts\n"
   ]
  },
  {
   "cell_type": "code",
   "execution_count": 13,
   "metadata": {},
   "outputs": [
    {
     "data": {
      "text/plain": [
       "'\\nThis column shows that the stops have more resolutions than just arrest, \\nwhile this is interesting, it is not relevant to the model.\\n'"
      ]
     },
     "execution_count": 13,
     "metadata": {},
     "output_type": "execute_result"
    }
   ],
   "source": [
    "\"\"\"\n",
    "This column shows that the stops have more resolutions than just arrest, \n",
    "while this is interesting, it is not relevant to the model.\n",
    "\"\"\""
   ]
  },
  {
   "cell_type": "code",
   "execution_count": 14,
   "metadata": {},
   "outputs": [],
   "source": [
    "df[\"Arrested\"]= df[\"Stop Resolution\"]"
   ]
  },
  {
   "cell_type": "code",
   "execution_count": 15,
   "metadata": {},
   "outputs": [
    {
     "data": {
      "text/html": [
       "<div>\n",
       "<style scoped>\n",
       "    .dataframe tbody tr th:only-of-type {\n",
       "        vertical-align: middle;\n",
       "    }\n",
       "\n",
       "    .dataframe tbody tr th {\n",
       "        vertical-align: top;\n",
       "    }\n",
       "\n",
       "    .dataframe thead th {\n",
       "        text-align: right;\n",
       "    }\n",
       "</style>\n",
       "<table border=\"1\" class=\"dataframe\">\n",
       "  <thead>\n",
       "    <tr style=\"text-align: right;\">\n",
       "      <th>Frisk Flag</th>\n",
       "      <th>-</th>\n",
       "      <th>N</th>\n",
       "      <th>Y</th>\n",
       "    </tr>\n",
       "    <tr>\n",
       "      <th>Arrest Flag</th>\n",
       "      <th></th>\n",
       "      <th></th>\n",
       "      <th></th>\n",
       "    </tr>\n",
       "  </thead>\n",
       "  <tbody>\n",
       "    <tr>\n",
       "      <th>N</th>\n",
       "      <td>478.0</td>\n",
       "      <td>42791.0</td>\n",
       "      <td>12533.0</td>\n",
       "    </tr>\n",
       "    <tr>\n",
       "      <th>Y</th>\n",
       "      <td>NaN</td>\n",
       "      <td>4359.0</td>\n",
       "      <td>2576.0</td>\n",
       "    </tr>\n",
       "  </tbody>\n",
       "</table>\n",
       "</div>"
      ],
      "text/plain": [
       "Frisk Flag       -        N        Y\n",
       "Arrest Flag                         \n",
       "N            478.0  42791.0  12533.0\n",
       "Y              NaN   4359.0   2576.0"
      ]
     },
     "execution_count": 15,
     "metadata": {},
     "output_type": "execute_result"
    }
   ],
   "source": [
    "counts = (df[['Frisk Flag', 'Arrest Flag']]\n",
    "              .groupby(['Frisk Flag', 'Arrest Flag'])\n",
    "              .size()\n",
    "              .unstack('Frisk Flag')\n",
    "         )\n",
    "counts"
   ]
  },
  {
   "cell_type": "code",
   "execution_count": 16,
   "metadata": {},
   "outputs": [
    {
     "data": {
      "text/plain": [
       "<AxesSubplot:xlabel='Subject Perceived Race', ylabel='count'>"
      ]
     },
     "execution_count": 16,
     "metadata": {},
     "output_type": "execute_result"
    },
    {
     "data": {
      "image/png": "[encoded data removed]",
      "text/plain": [
       "<Figure size 432x288 with 1 Axes>"
      ]
     },
     "metadata": {
      "needs_background": "light"
     },
     "output_type": "display_data"
    }
   ],
   "source": [
    "sns.countplot(data=df, x='Subject Perceived Race')"
   ]
  },
  {
   "cell_type": "code",
   "execution_count": 17,
   "metadata": {},
   "outputs": [
    {
     "data": {
      "text/plain": [
       "White                                        30767\n",
       "Black or African American                    18808\n",
       "Unknown                                       4655\n",
       "Asian                                         2162\n",
       "-                                             1821\n",
       "American Indian or Alaska Native              1708\n",
       "Hispanic                                      1684\n",
       "Multi-Racial                                   809\n",
       "Native Hawaiian or Other Pacific Islander      170\n",
       "Other                                          152\n",
       "MULTIPLE SUBJECTS                                1\n",
       "Name: Subject Perceived Race, dtype: int64"
      ]
     },
     "execution_count": 17,
     "metadata": {},
     "output_type": "execute_result"
    }
   ],
   "source": [
    "df[\"Subject Perceived Race\"].value_counts()"
   ]
  },
  {
   "cell_type": "code",
   "execution_count": 18,
   "metadata": {},
   "outputs": [
    {
     "data": {
      "text/plain": [
       "911                              29558\n",
       "ONVIEW                           14856\n",
       "-                                13543\n",
       "TELEPHONE OTHER, NOT 911          4213\n",
       "ALARM CALL (NOT POLICE ALARM)      535\n",
       "TEXT MESSAGE                        30\n",
       "HISTORY CALL (RETRO)                 1\n",
       "SCHEDULED EVENT (RECURRING)          1\n",
       "Name: Call Type, dtype: int64"
      ]
     },
     "execution_count": 18,
     "metadata": {},
     "output_type": "execute_result"
    }
   ],
   "source": [
    "df[\"Call Type\"].value_counts()"
   ]
  },
  {
   "cell_type": "code",
   "execution_count": 19,
   "metadata": {},
   "outputs": [
    {
     "data": {
      "text/plain": [
       "-                                             13543\n",
       "SUSPICIOUS STOP - OFFICER INITIATED ONVIEW     5003\n",
       "SUSPICIOUS PERSON, VEHICLE, OR INCIDENT        4347\n",
       "DISTURBANCE                                    3170\n",
       "ASLT - CRITICAL (NO SHOOTINGS)                 2764\n",
       "                                              ...  \n",
       "INFORMATIONAL BROADCASTS                          1\n",
       "PREPLANNED EVENT                                  1\n",
       "SEX OFFENDER - FAILURE TO REGISTER                1\n",
       "ASSIGNED DUTY - STAKEOUT                          1\n",
       "REQUEST TO WATCH                                  1\n",
       "Name: Initial Call Type, Length: 184, dtype: int64"
      ]
     },
     "execution_count": 19,
     "metadata": {},
     "output_type": "execute_result"
    }
   ],
   "source": [
    "df[\"Initial Call Type\"].value_counts()"
   ]
  },
  {
   "cell_type": "code",
   "execution_count": 20,
   "metadata": {},
   "outputs": [
    {
     "data": {
      "text/plain": [
       "-                                                     13543\n",
       "SUSPICIOUS CIRCUM. - SUSPICIOUS PERSON                 5856\n",
       "PROWLER - TRESPASS                                     4457\n",
       "DISTURBANCE - OTHER                                    3735\n",
       "ASSAULTS, OTHER                                        3134\n",
       "                                                      ...  \n",
       "COMMERCIAL SEXUAL EXPLOITATION OF MINORS (CSEC)           1\n",
       "OBS WEAPN-IP/JO-GUN,DEADLY WPN (NO THRT/ASLT/DIST)        1\n",
       "ALARM-VEHICLE ALARMS                                      1\n",
       "PEDESTRIAN VIOLATIONS                                     1\n",
       "OBS - MVC - NON INJURY, BLOCKING                          1\n",
       "Name: Final Call Type, Length: 198, dtype: int64"
      ]
     },
     "execution_count": 20,
     "metadata": {},
     "output_type": "execute_result"
    }
   ],
   "source": [
    "df[\"Final Call Type\"].value_counts()"
   ]
  },
  {
   "cell_type": "markdown",
   "metadata": {},
   "source": [
    "### Selected features\n",
    "\n",
    "For the model, I did not use any \n",
    "- ID numbers, whether of the situation or persons, I disregarded location\n",
    "- Call resolution- because that information is not abailable until after the stop.\n",
    "- Location- because my main focus, especially considering details of the case is demographical features and not topological ones."
   ]
  },
  {
   "cell_type": "code",
   "execution_count": 21,
   "metadata": {},
   "outputs": [
    {
     "data": {
      "text/html": [
       "<div>\n",
       "<style scoped>\n",
       "    .dataframe tbody tr th:only-of-type {\n",
       "        vertical-align: middle;\n",
       "    }\n",
       "\n",
       "    .dataframe tbody tr th {\n",
       "        vertical-align: top;\n",
       "    }\n",
       "\n",
       "    .dataframe thead th {\n",
       "        text-align: right;\n",
       "    }\n",
       "</style>\n",
       "<table border=\"1\" class=\"dataframe\">\n",
       "  <thead>\n",
       "    <tr style=\"text-align: right;\">\n",
       "      <th></th>\n",
       "      <th>Subject Age Group_-</th>\n",
       "      <th>Subject Age Group_1 - 17</th>\n",
       "      <th>Subject Age Group_18 - 25</th>\n",
       "      <th>Subject Age Group_26 - 35</th>\n",
       "      <th>Subject Age Group_36 - 45</th>\n",
       "      <th>Subject Age Group_46 - 55</th>\n",
       "      <th>Subject Age Group_56 and Above</th>\n",
       "      <th>Officer YOB_10-19</th>\n",
       "      <th>Officer YOB_20-29</th>\n",
       "      <th>Officer YOB_30-39</th>\n",
       "      <th>...</th>\n",
       "      <th>Subject Perceived Gender_Unable to Determine</th>\n",
       "      <th>Subject Perceived Gender_Unknown</th>\n",
       "      <th>Call Type_-</th>\n",
       "      <th>Call Type_911</th>\n",
       "      <th>Call Type_ALARM CALL (NOT POLICE ALARM)</th>\n",
       "      <th>Call Type_HISTORY CALL (RETRO)</th>\n",
       "      <th>Call Type_ONVIEW</th>\n",
       "      <th>Call Type_SCHEDULED EVENT (RECURRING)</th>\n",
       "      <th>Call Type_TELEPHONE OTHER, NOT 911</th>\n",
       "      <th>Call Type_TEXT MESSAGE</th>\n",
       "    </tr>\n",
       "  </thead>\n",
       "  <tbody>\n",
       "    <tr>\n",
       "      <th>0</th>\n",
       "      <td>0</td>\n",
       "      <td>0</td>\n",
       "      <td>1</td>\n",
       "      <td>0</td>\n",
       "      <td>0</td>\n",
       "      <td>0</td>\n",
       "      <td>0</td>\n",
       "      <td>0</td>\n",
       "      <td>0</td>\n",
       "      <td>0</td>\n",
       "      <td>...</td>\n",
       "      <td>0</td>\n",
       "      <td>0</td>\n",
       "      <td>0</td>\n",
       "      <td>1</td>\n",
       "      <td>0</td>\n",
       "      <td>0</td>\n",
       "      <td>0</td>\n",
       "      <td>0</td>\n",
       "      <td>0</td>\n",
       "      <td>0</td>\n",
       "    </tr>\n",
       "    <tr>\n",
       "      <th>1</th>\n",
       "      <td>0</td>\n",
       "      <td>0</td>\n",
       "      <td>0</td>\n",
       "      <td>0</td>\n",
       "      <td>0</td>\n",
       "      <td>1</td>\n",
       "      <td>0</td>\n",
       "      <td>0</td>\n",
       "      <td>0</td>\n",
       "      <td>0</td>\n",
       "      <td>...</td>\n",
       "      <td>0</td>\n",
       "      <td>0</td>\n",
       "      <td>1</td>\n",
       "      <td>0</td>\n",
       "      <td>0</td>\n",
       "      <td>0</td>\n",
       "      <td>0</td>\n",
       "      <td>0</td>\n",
       "      <td>0</td>\n",
       "      <td>0</td>\n",
       "    </tr>\n",
       "    <tr>\n",
       "      <th>2</th>\n",
       "      <td>0</td>\n",
       "      <td>0</td>\n",
       "      <td>0</td>\n",
       "      <td>0</td>\n",
       "      <td>0</td>\n",
       "      <td>1</td>\n",
       "      <td>0</td>\n",
       "      <td>0</td>\n",
       "      <td>0</td>\n",
       "      <td>0</td>\n",
       "      <td>...</td>\n",
       "      <td>0</td>\n",
       "      <td>0</td>\n",
       "      <td>0</td>\n",
       "      <td>0</td>\n",
       "      <td>0</td>\n",
       "      <td>0</td>\n",
       "      <td>1</td>\n",
       "      <td>0</td>\n",
       "      <td>0</td>\n",
       "      <td>0</td>\n",
       "    </tr>\n",
       "    <tr>\n",
       "      <th>3</th>\n",
       "      <td>0</td>\n",
       "      <td>0</td>\n",
       "      <td>0</td>\n",
       "      <td>0</td>\n",
       "      <td>1</td>\n",
       "      <td>0</td>\n",
       "      <td>0</td>\n",
       "      <td>0</td>\n",
       "      <td>0</td>\n",
       "      <td>0</td>\n",
       "      <td>...</td>\n",
       "      <td>0</td>\n",
       "      <td>0</td>\n",
       "      <td>1</td>\n",
       "      <td>0</td>\n",
       "      <td>0</td>\n",
       "      <td>0</td>\n",
       "      <td>0</td>\n",
       "      <td>0</td>\n",
       "      <td>0</td>\n",
       "      <td>0</td>\n",
       "    </tr>\n",
       "    <tr>\n",
       "      <th>4</th>\n",
       "      <td>0</td>\n",
       "      <td>0</td>\n",
       "      <td>1</td>\n",
       "      <td>0</td>\n",
       "      <td>0</td>\n",
       "      <td>0</td>\n",
       "      <td>0</td>\n",
       "      <td>0</td>\n",
       "      <td>0</td>\n",
       "      <td>1</td>\n",
       "      <td>...</td>\n",
       "      <td>0</td>\n",
       "      <td>0</td>\n",
       "      <td>0</td>\n",
       "      <td>1</td>\n",
       "      <td>0</td>\n",
       "      <td>0</td>\n",
       "      <td>0</td>\n",
       "      <td>0</td>\n",
       "      <td>0</td>\n",
       "      <td>0</td>\n",
       "    </tr>\n",
       "  </tbody>\n",
       "</table>\n",
       "<p>5 rows × 50 columns</p>\n",
       "</div>"
      ],
      "text/plain": [
       "   Subject Age Group_-  Subject Age Group_1 - 17  Subject Age Group_18 - 25  \\\n",
       "0                    0                         0                          1   \n",
       "1                    0                         0                          0   \n",
       "2                    0                         0                          0   \n",
       "3                    0                         0                          0   \n",
       "4                    0                         0                          1   \n",
       "\n",
       "   Subject Age Group_26 - 35  Subject Age Group_36 - 45  \\\n",
       "0                          0                          0   \n",
       "1                          0                          0   \n",
       "2                          0                          0   \n",
       "3                          0                          1   \n",
       "4                          0                          0   \n",
       "\n",
       "   Subject Age Group_46 - 55  Subject Age Group_56 and Above  \\\n",
       "0                          0                               0   \n",
       "1                          1                               0   \n",
       "2                          1                               0   \n",
       "3                          0                               0   \n",
       "4                          0                               0   \n",
       "\n",
       "   Officer YOB_10-19  Officer YOB_20-29  Officer YOB_30-39  ...  \\\n",
       "0                  0                  0                  0  ...   \n",
       "1                  0                  0                  0  ...   \n",
       "2                  0                  0                  0  ...   \n",
       "3                  0                  0                  0  ...   \n",
       "4                  0                  0                  1  ...   \n",
       "\n",
       "   Subject Perceived Gender_Unable to Determine  \\\n",
       "0                                             0   \n",
       "1                                             0   \n",
       "2                                             0   \n",
       "3                                             0   \n",
       "4                                             0   \n",
       "\n",
       "   Subject Perceived Gender_Unknown  Call Type_-  Call Type_911  \\\n",
       "0                                 0            0              1   \n",
       "1                                 0            1              0   \n",
       "2                                 0            0              0   \n",
       "3                                 0            1              0   \n",
       "4                                 0            0              1   \n",
       "\n",
       "   Call Type_ALARM CALL (NOT POLICE ALARM)  Call Type_HISTORY CALL (RETRO)  \\\n",
       "0                                        0                               0   \n",
       "1                                        0                               0   \n",
       "2                                        0                               0   \n",
       "3                                        0                               0   \n",
       "4                                        0                               0   \n",
       "\n",
       "   Call Type_ONVIEW  Call Type_SCHEDULED EVENT (RECURRING)  \\\n",
       "0                 0                                      0   \n",
       "1                 0                                      0   \n",
       "2                 1                                      0   \n",
       "3                 0                                      0   \n",
       "4                 0                                      0   \n",
       "\n",
       "   Call Type_TELEPHONE OTHER, NOT 911  Call Type_TEXT MESSAGE  \n",
       "0                                   0                       0  \n",
       "1                                   0                       0  \n",
       "2                                   0                       0  \n",
       "3                                   0                       0  \n",
       "4                                   0                       0  \n",
       "\n",
       "[5 rows x 50 columns]"
      ]
     },
     "execution_count": 21,
     "metadata": {},
     "output_type": "execute_result"
    }
   ],
   "source": [
    "X=df[['Subject Age Group','Officer YOB',\n",
    "       'Officer Gender', 'Officer Race', 'Subject Perceived Race',\n",
    "       'Subject Perceived Gender', 'Call Type']]\n",
    "X=pd.get_dummies(X, dtype=int) # One Hot Encoding data to make it binary\n",
    "X.head()"
   ]
  },
  {
   "cell_type": "code",
   "execution_count": 22,
   "metadata": {},
   "outputs": [
    {
     "data": {
      "text/plain": [
       "0    0\n",
       "1    0\n",
       "2    1\n",
       "3    0\n",
       "4    0\n",
       "Name: Arrest Flag, dtype: int64"
      ]
     },
     "execution_count": 22,
     "metadata": {},
     "output_type": "execute_result"
    }
   ],
   "source": [
    "y= df[\"Arrest Flag\"].replace({'N': 0, 'Y': 1}) # Making the target variable binary\n",
    "y.head() "
   ]
  },
  {
   "cell_type": "code",
   "execution_count": 23,
   "metadata": {},
   "outputs": [],
   "source": [
    "from sklearn.model_selection import train_test_split\n",
    "from sklearn.tree import DecisionTreeClassifier \n",
    "# importing from scikit library "
   ]
  },
  {
   "cell_type": "code",
   "execution_count": 24,
   "metadata": {},
   "outputs": [
    {
     "name": "stdout",
     "output_type": "stream",
     "text": [
      "Training Set Shape: (50189, 50)\n",
      "Testing Set Shape: (12548, 50)\n"
     ]
    }
   ],
   "source": [
    "#Spliting the data into train and test data\n",
    "X_train, X_test, y_train, y_test = train_test_split(\n",
    "    X, y, test_size=0.20, random_state=10)\n",
    "print(\"Training Set Shape:\", X_train.shape)\n",
    "print(\"Testing Set Shape:\", X_test.shape)"
   ]
  },
  {
   "cell_type": "code",
   "execution_count": 25,
   "metadata": {},
   "outputs": [
    {
     "name": "stdout",
     "output_type": "stream",
     "text": [
      "Class Distribution After SMOTE:\n",
      " 1    44658\n",
      "0    44658\n",
      "Name: Arrest Flag, dtype: int64\n"
     ]
    }
   ],
   "source": [
    "# There is a class imbalance in the data. SMOTE shall be used to adress it\n",
    "# For a basic model, decision tree classifier is chosen\n",
    "from imblearn.over_sampling import SMOTE\n",
    "from sklearn.impute import SimpleImputer\n",
    "\n",
    "# Apply SMOTE\n",
    "smote = SMOTE(random_state=42)\n",
    "X_train_sm, y_train_sm = smote.fit_resample(X_train, y_train)\n",
    "\n",
    "# Verify class distribution after SMOTE\n",
    "print(\"Class Distribution After SMOTE:\\n\", y_train_sm.value_counts())"
   ]
  },
  {
   "cell_type": "code",
   "execution_count": 26,
   "metadata": {},
   "outputs": [
    {
     "data": {
      "text/plain": [
       "DecisionTreeClassifier(random_state=10)"
      ]
     },
     "execution_count": 26,
     "metadata": {},
     "output_type": "execute_result"
    }
   ],
   "source": [
    "classifier = DecisionTreeClassifier(random_state=10)  \n",
    "classifier.fit(X_train_sm, y_train_sm) "
   ]
  },
  {
   "cell_type": "code",
   "execution_count": 27,
   "metadata": {},
   "outputs": [],
   "source": [
    "# Use the trained model to make a prediction.\n",
    "y_pred = classifier.predict(X_test)  "
   ]
  },
  {
   "cell_type": "code",
   "execution_count": 28,
   "metadata": {},
   "outputs": [],
   "source": [
    "from sklearn.metrics import accuracy_score, roc_curve, auc, classification_report"
   ]
  },
  {
   "cell_type": "markdown",
   "metadata": {},
   "source": [
    "### Calculate performance measures"
   ]
  },
  {
   "cell_type": "code",
   "execution_count": 29,
   "metadata": {},
   "outputs": [
    {
     "data": {
      "text/plain": [
       "0.628089061506147"
      ]
     },
     "execution_count": 29,
     "metadata": {},
     "output_type": "execute_result"
    }
   ],
   "source": [
    "false_positive_rate, true_positive_rate, thresholds = roc_curve(y_test, y_pred)\n",
    "roc_auc = auc(false_positive_rate, true_positive_rate)\n",
    "roc_auc"
   ]
  },
  {
   "cell_type": "code",
   "execution_count": 30,
   "metadata": {},
   "outputs": [
    {
     "name": "stdout",
     "output_type": "stream",
     "text": [
      "              precision    recall  f1-score   support\n",
      "\n",
      "           0       0.93      0.65      0.77     11144\n",
      "           1       0.18      0.60      0.28      1404\n",
      "\n",
      "    accuracy                           0.65     12548\n",
      "   macro avg       0.55      0.63      0.52     12548\n",
      "weighted avg       0.85      0.65      0.71     12548\n",
      "\n"
     ]
    }
   ],
   "source": [
    "print(classification_report(y_test, y_pred))"
   ]
  },
  {
   "cell_type": "code",
   "execution_count": 32,
   "metadata": {},
   "outputs": [
    {
     "data": {
      "text/plain": [
       "<sklearn.metrics._plot.confusion_matrix.ConfusionMatrixDisplay at 0x28463c9ff10>"
      ]
     },
     "execution_count": 32,
     "metadata": {},
     "output_type": "execute_result"
    },
    {
     "data": {
      "image/png": "[encoded data removed]",
      "text/plain": [
       "<Figure size 432x288 with 2 Axes>"
      ]
     },
     "metadata": {
      "needs_background": "light"
     },
     "output_type": "display_data"
    }
   ],
   "source": [
    "from sklearn.metrics import ConfusionMatrixDisplay, confusion_matrix\n",
    "\n",
    "cnf_matrix = confusion_matrix(y_test, y_pred)\n",
    "disp = ConfusionMatrixDisplay(confusion_matrix=cnf_matrix, display_labels=classifier.classes_)\n",
    "disp.plot(cmap=plt.cm.Blues)"
   ]
  },
  {
   "cell_type": "markdown",
   "metadata": {},
   "source": [
    "### Interpret classification metrics\n",
    "\n",
    "An AUC score of 0.628 means that we have created a fair model, ther is room for improvement- but it is better than random classification. \n",
    "\n",
    "However, the F1 score is indicating a poor model. it shows that there is a significant imbalance in precision and recall. \n",
    "\n",
    "The classification matrix shows that the model missclassified a lot of the testing data. This is an indication of a poor model that should not be used for real life applications"
   ]
  },
  {
   "cell_type": "code",
   "execution_count": 33,
   "metadata": {},
   "outputs": [],
   "source": [
    "# Hypertuning the classifier\n",
    "max_depths = list(range(1, 31))\n",
    "roc_auc_results = []\n",
    "\n",
    "\n",
    "for max_depth in max_depths:\n",
    "    classifier = DecisionTreeClassifier(max_depth=max_depth, \n",
    "                                      random_state=45)\n",
    "    classifier.fit(X_train_sm, y_train_sm)\n",
    "    y_pred = classifier.predict(X_test)\n",
    "    false_positive_rate, true_positive_rate, thresholds = roc_curve(y_test, y_pred)\n",
    "    roc_auc = auc(false_positive_rate, true_positive_rate)\n",
    "    roc_auc_results.append(roc_auc)\n",
    "\n",
    "best_max_depth= roc_auc_results.index(max(roc_auc_results))"
   ]
  },
  {
   "cell_type": "code",
   "execution_count": 34,
   "metadata": {},
   "outputs": [],
   "source": [
    "min_samples_splits = np.arange(2, 11)\n",
    "roc_auc_results\n",
    "\n",
    "for min_samples_split in min_samples_splits:\n",
    "    classifier = DecisionTreeClassifier(min_samples_split=int(min_samples_split),\n",
    "                                      random_state=45)\n",
    "    classifier.fit(X_train_sm, y_train_sm)\n",
    "    y_pred = classifier.predict(X_test)\n",
    "    false_positive_rate, true_positive_rate, thresholds = roc_curve(y_test, y_pred)\n",
    "    roc_auc = auc(false_positive_rate, true_positive_rate)\n",
    "    roc_auc_results.append(roc_auc)\n",
    "    \n",
    "best_min_splits= roc_auc_results.index(max(roc_auc_results))\n"
   ]
  },
  {
   "cell_type": "code",
   "execution_count": 35,
   "metadata": {},
   "outputs": [
    {
     "data": {
      "text/plain": [
       "8"
      ]
     },
     "execution_count": 35,
     "metadata": {},
     "output_type": "execute_result"
    }
   ],
   "source": [
    "best_min_splits"
   ]
  },
  {
   "cell_type": "code",
   "execution_count": 36,
   "metadata": {},
   "outputs": [
    {
     "data": {
      "text/plain": [
       "0.6401842852847878"
      ]
     },
     "execution_count": 36,
     "metadata": {},
     "output_type": "execute_result"
    }
   ],
   "source": [
    "classifier = DecisionTreeClassifier(min_samples_split=best_min_splits, max_depth=best_max_depth, random_state=45)\n",
    "classifier.fit(X_train_sm, y_train_sm)\n",
    "y_pred = classifier.predict(X_test)\n",
    "false_positive_rate, true_positive_rate, thresholds = roc_curve(y_test, y_pred)\n",
    "roc_auc = auc(false_positive_rate, true_positive_rate)\n",
    "roc_auc"
   ]
  },
  {
   "cell_type": "markdown",
   "metadata": {},
   "source": [
    "The resulting model is not much better than the one without hypertuning. There is a 0.02 difference in the AUC scores. "
   ]
  },
  {
   "cell_type": "markdown",
   "metadata": {},
   "source": [
    "## Conclusion\n",
    "This project developed a Decision tree Classifier model that could predict arrests at Terry stops.\n",
    "\n",
    "\n",
    "#### Considering other models\n",
    "- This model does not appear to be working well with the data we have. The performance metrics were poor overall and did not indicate a usable model\n",
    "\n",
    "#### Adding more predictive features\n",
    "- including features that were left out in this model like- location and time might help make a better model. Other features which are not in the data like beahavior of subject or hours on duty of officer may result in a more robust model"
   ]
  }
 ],
 "metadata": {
  "kernelspec": {
   "display_name": "Python (learn-env)",
   "language": "python",
   "name": "learn-env"
  },
  "language_info": {
   "codemirror_mode": {
    "name": "ipython",
    "version": 3
   },
   "file_extension": ".py",
   "mimetype": "text/x-python",
   "name": "python",
   "nbconvert_exporter": "python",
   "pygments_lexer": "ipython3",
   "version": "3.8.5"
  }
 },
 "nbformat": 4,
 "nbformat_minor": 4
}
